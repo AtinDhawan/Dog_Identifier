{
 "cells": [
  {
   "cell_type": "code",
   "execution_count": 19,
   "id": "734d6a27",
   "metadata": {},
   "outputs": [],
   "source": [
    "import numpy as np\n",
    "import pandas as pd\n",
    "import os\n",
    "import shutil\n",
    "import lxml\n",
    "from bs4 import BeautifulSoup\n",
    "import matplotlib.pyplot as plt"
   ]
  },
  {
   "cell_type": "code",
   "execution_count": 2,
   "id": "eed9bf94",
   "metadata": {},
   "outputs": [
    {
     "data": {
      "text/plain": [
       "'/home/edloftus/code/AtinDhawan/Dog_Identifier'"
      ]
     },
     "execution_count": 2,
     "metadata": {},
     "output_type": "execute_result"
    }
   ],
   "source": [
    "os.getcwd()"
   ]
  },
  {
   "cell_type": "code",
   "execution_count": null,
   "id": "b1e01267",
   "metadata": {},
   "outputs": [],
   "source": [
    "to_be_moved = [dirs[0] for dirs in os.walk(\"/home/edloftus/code/AtinDhawan/Dog_Identifier/raw_data/Annotation\", topdown=False)][:-1]"
   ]
  },
  {
   "cell_type": "code",
   "execution_count": null,
   "id": "c5bd5b33",
   "metadata": {},
   "outputs": [],
   "source": [
    "print('Do not run, if already run prviously')\n",
    "# source_folder = \"/home/edloftus/code/AtinDhawan/Dog_Identifier/raw_data/Annotation\"\n",
    "# target_dir = '/home/edloftus/code/AtinDhawan/Dog_Identifier/raw_data/All_Annotations'\n",
    "# to_be_moved = [dirs[0] for dirs in os.walk(f'{source_folder}', topdown=False)][:-1]\n",
    "# for folder_name in to_be_moved:\n",
    "#     source_dir = folder_name \n",
    "#     file_names = os.listdir(source_dir)\n",
    "#     for file_name in file_names:\n",
    "#         if not file_name.endswith('Zone.Identifier'):\n",
    "#             shutil.copy(os.path.join(source_dir, file_name), target_dir)"
   ]
  },
  {
   "cell_type": "code",
   "execution_count": 7,
   "id": "eea64e78",
   "metadata": {},
   "outputs": [],
   "source": [
    "file_names = os.listdir('/home/edloftus/code/AtinDhawan/Dog_Identifier/raw_data/All_Annotations')"
   ]
  },
  {
   "cell_type": "code",
   "execution_count": 8,
   "id": "d253f4ce",
   "metadata": {},
   "outputs": [
    {
     "data": {
      "text/plain": [
       "20580"
      ]
     },
     "execution_count": 8,
     "metadata": {},
     "output_type": "execute_result"
    }
   ],
   "source": [
    "len(file_names)"
   ]
  },
  {
   "cell_type": "code",
   "execution_count": null,
   "id": "ed48b96c",
   "metadata": {},
   "outputs": [],
   "source": [
    "file_names_testing = file_names[:10]"
   ]
  },
  {
   "cell_type": "code",
   "execution_count": null,
   "id": "3b6f5d58",
   "metadata": {},
   "outputs": [],
   "source": [
    "path = f'/home/edloftus/code/AtinDhawan/Dog_Identifier/raw_data/All_Annotations/{file_names_testing[0]}'\n",
    "with open(path) as f:\n",
    "    text = f.read()\n",
    "soup = BeautifulSoup(text,'html.parser')\n",
    "soup"
   ]
  },
  {
   "cell_type": "code",
   "execution_count": null,
   "id": "a06e661e",
   "metadata": {},
   "outputs": [],
   "source": [
    "annotations = []\n",
    "for file_name in file_names:\n",
    "    annotation = {}\n",
    "    path = f'/home/edloftus/code/AtinDhawan/Dog_Identifier/raw_data/All_Annotations/{file_name}'\n",
    "    with open(path) as f:\n",
    "        text = f.read()\n",
    "    soup = BeautifulSoup(text,'html.parser')\n",
    "    annotation['file_name'] = soup.filename.get_text()\n",
    "    annotation['image_width'] = int(soup.width.get_text())\n",
    "    annotation['image_height'] = int(soup.height.get_text())\n",
    "    annotation['image_depth'] = int(soup.depth.get_text())\n",
    "    annotation['breed'] = soup.find('name').get_text()\n",
    "    annotation['xmin'] = int(soup.xmin.get_text())\n",
    "    annotation['xmax'] = int(soup.xmax.get_text())\n",
    "    annotation['ymin'] = int(soup.ymin.get_text())\n",
    "    annotation['ymax'] = int(soup.ymax.get_text())\n",
    "    annotations.append(annotation)\n",
    "\n",
    "df = pd.DataFrame(annotations)"
   ]
  },
  {
   "cell_type": "code",
   "execution_count": 3,
   "id": "2da100d9",
   "metadata": {},
   "outputs": [],
   "source": [
    "df = pd.read_csv('Annotations.csv')"
   ]
  },
  {
   "cell_type": "code",
   "execution_count": null,
   "id": "b0ee138b",
   "metadata": {},
   "outputs": [],
   "source": [
    "# df.to_csv('Annotations.csv', index=False)"
   ]
  },
  {
   "cell_type": "code",
   "execution_count": null,
   "id": "60ee040a",
   "metadata": {},
   "outputs": [],
   "source": [
    "df.describe()"
   ]
  },
  {
   "cell_type": "code",
   "execution_count": 4,
   "id": "f07dc27d",
   "metadata": {},
   "outputs": [
    {
     "data": {
      "text/html": [
       "<div>\n",
       "<style scoped>\n",
       "    .dataframe tbody tr th:only-of-type {\n",
       "        vertical-align: middle;\n",
       "    }\n",
       "\n",
       "    .dataframe tbody tr th {\n",
       "        vertical-align: top;\n",
       "    }\n",
       "\n",
       "    .dataframe thead th {\n",
       "        text-align: right;\n",
       "    }\n",
       "</style>\n",
       "<table border=\"1\" class=\"dataframe\">\n",
       "  <thead>\n",
       "    <tr style=\"text-align: right;\">\n",
       "      <th></th>\n",
       "      <th>file_name</th>\n",
       "      <th>image_width</th>\n",
       "      <th>image_height</th>\n",
       "      <th>image_depth</th>\n",
       "      <th>breed</th>\n",
       "      <th>xmin</th>\n",
       "      <th>xmax</th>\n",
       "      <th>ymin</th>\n",
       "      <th>ymax</th>\n",
       "    </tr>\n",
       "  </thead>\n",
       "  <tbody>\n",
       "    <tr>\n",
       "      <th>0</th>\n",
       "      <td>n02101388_3416</td>\n",
       "      <td>500</td>\n",
       "      <td>333</td>\n",
       "      <td>3</td>\n",
       "      <td>Brittany_spaniel</td>\n",
       "      <td>158</td>\n",
       "      <td>347</td>\n",
       "      <td>107</td>\n",
       "      <td>288</td>\n",
       "    </tr>\n",
       "    <tr>\n",
       "      <th>1</th>\n",
       "      <td>n02106382_1787</td>\n",
       "      <td>448</td>\n",
       "      <td>299</td>\n",
       "      <td>3</td>\n",
       "      <td>Bouvier_des_Flandres</td>\n",
       "      <td>181</td>\n",
       "      <td>444</td>\n",
       "      <td>45</td>\n",
       "      <td>236</td>\n",
       "    </tr>\n",
       "    <tr>\n",
       "      <th>2</th>\n",
       "      <td>n02104365_1158</td>\n",
       "      <td>2048</td>\n",
       "      <td>1536</td>\n",
       "      <td>3</td>\n",
       "      <td>schipperke</td>\n",
       "      <td>457</td>\n",
       "      <td>1302</td>\n",
       "      <td>57</td>\n",
       "      <td>1528</td>\n",
       "    </tr>\n",
       "    <tr>\n",
       "      <th>3</th>\n",
       "      <td>n02085936_9590</td>\n",
       "      <td>500</td>\n",
       "      <td>375</td>\n",
       "      <td>3</td>\n",
       "      <td>Maltese_dog</td>\n",
       "      <td>148</td>\n",
       "      <td>492</td>\n",
       "      <td>16</td>\n",
       "      <td>374</td>\n",
       "    </tr>\n",
       "    <tr>\n",
       "      <th>4</th>\n",
       "      <td>n02100236_3877</td>\n",
       "      <td>500</td>\n",
       "      <td>272</td>\n",
       "      <td>3</td>\n",
       "      <td>German_short-haired_pointer</td>\n",
       "      <td>217</td>\n",
       "      <td>302</td>\n",
       "      <td>32</td>\n",
       "      <td>246</td>\n",
       "    </tr>\n",
       "    <tr>\n",
       "      <th>...</th>\n",
       "      <td>...</td>\n",
       "      <td>...</td>\n",
       "      <td>...</td>\n",
       "      <td>...</td>\n",
       "      <td>...</td>\n",
       "      <td>...</td>\n",
       "      <td>...</td>\n",
       "      <td>...</td>\n",
       "      <td>...</td>\n",
       "    </tr>\n",
       "    <tr>\n",
       "      <th>20575</th>\n",
       "      <td>n02088238_11511</td>\n",
       "      <td>500</td>\n",
       "      <td>333</td>\n",
       "      <td>3</td>\n",
       "      <td>basset</td>\n",
       "      <td>0</td>\n",
       "      <td>418</td>\n",
       "      <td>34</td>\n",
       "      <td>331</td>\n",
       "    </tr>\n",
       "    <tr>\n",
       "      <th>20576</th>\n",
       "      <td>n02106166_6569</td>\n",
       "      <td>240</td>\n",
       "      <td>134</td>\n",
       "      <td>3</td>\n",
       "      <td>Border_collie</td>\n",
       "      <td>150</td>\n",
       "      <td>236</td>\n",
       "      <td>5</td>\n",
       "      <td>102</td>\n",
       "    </tr>\n",
       "    <tr>\n",
       "      <th>20577</th>\n",
       "      <td>n02098286_2502</td>\n",
       "      <td>500</td>\n",
       "      <td>375</td>\n",
       "      <td>3</td>\n",
       "      <td>West_Highland_white_terrier</td>\n",
       "      <td>43</td>\n",
       "      <td>345</td>\n",
       "      <td>43</td>\n",
       "      <td>293</td>\n",
       "    </tr>\n",
       "    <tr>\n",
       "      <th>20578</th>\n",
       "      <td>n02112018_13930</td>\n",
       "      <td>500</td>\n",
       "      <td>375</td>\n",
       "      <td>3</td>\n",
       "      <td>Pomeranian</td>\n",
       "      <td>175</td>\n",
       "      <td>358</td>\n",
       "      <td>35</td>\n",
       "      <td>289</td>\n",
       "    </tr>\n",
       "    <tr>\n",
       "      <th>20579</th>\n",
       "      <td>n02088238_9324</td>\n",
       "      <td>400</td>\n",
       "      <td>300</td>\n",
       "      <td>3</td>\n",
       "      <td>basset</td>\n",
       "      <td>35</td>\n",
       "      <td>365</td>\n",
       "      <td>94</td>\n",
       "      <td>226</td>\n",
       "    </tr>\n",
       "  </tbody>\n",
       "</table>\n",
       "<p>20580 rows × 9 columns</p>\n",
       "</div>"
      ],
      "text/plain": [
       "             file_name  image_width  image_height  image_depth  \\\n",
       "0       n02101388_3416          500           333            3   \n",
       "1       n02106382_1787          448           299            3   \n",
       "2       n02104365_1158         2048          1536            3   \n",
       "3       n02085936_9590          500           375            3   \n",
       "4       n02100236_3877          500           272            3   \n",
       "...                ...          ...           ...          ...   \n",
       "20575  n02088238_11511          500           333            3   \n",
       "20576   n02106166_6569          240           134            3   \n",
       "20577   n02098286_2502          500           375            3   \n",
       "20578  n02112018_13930          500           375            3   \n",
       "20579   n02088238_9324          400           300            3   \n",
       "\n",
       "                             breed  xmin  xmax  ymin  ymax  \n",
       "0                 Brittany_spaniel   158   347   107   288  \n",
       "1             Bouvier_des_Flandres   181   444    45   236  \n",
       "2                       schipperke   457  1302    57  1528  \n",
       "3                      Maltese_dog   148   492    16   374  \n",
       "4      German_short-haired_pointer   217   302    32   246  \n",
       "...                            ...   ...   ...   ...   ...  \n",
       "20575                       basset     0   418    34   331  \n",
       "20576                Border_collie   150   236     5   102  \n",
       "20577  West_Highland_white_terrier    43   345    43   293  \n",
       "20578                   Pomeranian   175   358    35   289  \n",
       "20579                       basset    35   365    94   226  \n",
       "\n",
       "[20580 rows x 9 columns]"
      ]
     },
     "execution_count": 4,
     "metadata": {},
     "output_type": "execute_result"
    }
   ],
   "source": [
    "df"
   ]
  },
  {
   "cell_type": "code",
   "execution_count": 39,
   "id": "2f4af333",
   "metadata": {},
   "outputs": [
    {
     "data": {
      "text/plain": [
       "(2735, 2025)"
      ]
     },
     "execution_count": 39,
     "metadata": {},
     "output_type": "execute_result"
    }
   ],
   "source": [
    "((df.xmax) - (df.xmin)).max(),  ((df.ymax) - (df.ymin)).max()"
   ]
  },
  {
   "cell_type": "code",
   "execution_count": 38,
   "id": "8c8928c1",
   "metadata": {},
   "outputs": [
    {
     "name": "stdout",
     "output_type": "stream",
     "text": [
      "Widest image is 3264 pixels wide.\n",
      "Tallest image is 2562 pixels tall.\n",
      "Widest crop is 2735 pixels wide.\n",
      "Tallest crop  is 2025 pixels tall.\n"
     ]
    }
   ],
   "source": [
    "print(f'Widest image is {df.image_width.max()} pixels wide.')\n",
    "print(f'Tallest image is {df.image_height.max()} pixels tall.')\n",
    "print(f'Widest crop is {((df.xmax) - (df.xmin)).max()} pixels wide.')\n",
    "print(f'Tallest crop  is {((df.ymax) - (df.ymin)).max()} pixels tall.')"
   ]
  },
  {
   "cell_type": "code",
   "execution_count": 6,
   "id": "6bbd9166",
   "metadata": {
    "scrolled": true
   },
   "outputs": [
    {
     "ename": "FileNotFoundError",
     "evalue": "[Errno 2] No such file or directory: '/home/edloftus/code/AtinDhawan/Dog_Identifier/raw_data/n02085620_326.jpg'",
     "output_type": "error",
     "traceback": [
      "\u001b[0;31m---------------------------------------------------------------------------\u001b[0m",
      "\u001b[0;31mFileNotFoundError\u001b[0m                         Traceback (most recent call last)",
      "Cell \u001b[0;32mIn[6], line 4\u001b[0m\n\u001b[1;32m      2\u001b[0m \u001b[38;5;28;01mfrom\u001b[39;00m \u001b[38;5;21;01mmatplotlib\u001b[39;00m \u001b[38;5;28;01mimport\u001b[39;00m pyplot\n\u001b[1;32m      3\u001b[0m \u001b[38;5;66;03m# load image as pixel array\u001b[39;00m\n\u001b[0;32m----> 4\u001b[0m photo \u001b[38;5;241m=\u001b[39m \u001b[43mimage\u001b[49m\u001b[38;5;241;43m.\u001b[39;49m\u001b[43mimread\u001b[49m\u001b[43m(\u001b[49m\u001b[38;5;124;43m'\u001b[39;49m\u001b[38;5;124;43m/home/edloftus/code/AtinDhawan/Dog_Identifier/raw_data/n02085620_326.jpg\u001b[39;49m\u001b[38;5;124;43m'\u001b[39;49m\u001b[43m)\u001b[49m\n\u001b[1;32m      5\u001b[0m \u001b[38;5;66;03m# summarize shape of the pixel array\u001b[39;00m\n\u001b[1;32m      6\u001b[0m photo\n",
      "File \u001b[0;32m~/.pyenv/versions/3.10.6/envs/Dog_Identifier/lib/python3.10/site-packages/matplotlib/image.py:1563\u001b[0m, in \u001b[0;36mimread\u001b[0;34m(fname, format)\u001b[0m\n\u001b[1;32m   1556\u001b[0m \u001b[38;5;28;01mif\u001b[39;00m \u001b[38;5;28misinstance\u001b[39m(fname, \u001b[38;5;28mstr\u001b[39m) \u001b[38;5;129;01mand\u001b[39;00m \u001b[38;5;28mlen\u001b[39m(parse\u001b[38;5;241m.\u001b[39murlparse(fname)\u001b[38;5;241m.\u001b[39mscheme) \u001b[38;5;241m>\u001b[39m \u001b[38;5;241m1\u001b[39m:\n\u001b[1;32m   1557\u001b[0m     \u001b[38;5;66;03m# Pillow doesn't handle URLs directly.\u001b[39;00m\n\u001b[1;32m   1558\u001b[0m     \u001b[38;5;28;01mraise\u001b[39;00m \u001b[38;5;167;01mValueError\u001b[39;00m(\n\u001b[1;32m   1559\u001b[0m         \u001b[38;5;124m\"\u001b[39m\u001b[38;5;124mPlease open the URL for reading and pass the \u001b[39m\u001b[38;5;124m\"\u001b[39m\n\u001b[1;32m   1560\u001b[0m         \u001b[38;5;124m\"\u001b[39m\u001b[38;5;124mresult to Pillow, e.g. with \u001b[39m\u001b[38;5;124m\"\u001b[39m\n\u001b[1;32m   1561\u001b[0m         \u001b[38;5;124m\"\u001b[39m\u001b[38;5;124m``np.array(PIL.Image.open(urllib.request.urlopen(url)))``.\u001b[39m\u001b[38;5;124m\"\u001b[39m\n\u001b[1;32m   1562\u001b[0m         )\n\u001b[0;32m-> 1563\u001b[0m \u001b[38;5;28;01mwith\u001b[39;00m \u001b[43mimg_open\u001b[49m\u001b[43m(\u001b[49m\u001b[43mfname\u001b[49m\u001b[43m)\u001b[49m \u001b[38;5;28;01mas\u001b[39;00m image:\n\u001b[1;32m   1564\u001b[0m     \u001b[38;5;28;01mreturn\u001b[39;00m (_pil_png_to_float_array(image)\n\u001b[1;32m   1565\u001b[0m             \u001b[38;5;28;01mif\u001b[39;00m \u001b[38;5;28misinstance\u001b[39m(image, PIL\u001b[38;5;241m.\u001b[39mPngImagePlugin\u001b[38;5;241m.\u001b[39mPngImageFile) \u001b[38;5;28;01melse\u001b[39;00m\n\u001b[1;32m   1566\u001b[0m             pil_to_array(image))\n",
      "File \u001b[0;32m~/.pyenv/versions/3.10.6/envs/Dog_Identifier/lib/python3.10/site-packages/PIL/Image.py:3236\u001b[0m, in \u001b[0;36mopen\u001b[0;34m(fp, mode, formats)\u001b[0m\n\u001b[1;32m   3233\u001b[0m     filename \u001b[38;5;241m=\u001b[39m fp\n\u001b[1;32m   3235\u001b[0m \u001b[38;5;28;01mif\u001b[39;00m filename:\n\u001b[0;32m-> 3236\u001b[0m     fp \u001b[38;5;241m=\u001b[39m \u001b[43mbuiltins\u001b[49m\u001b[38;5;241;43m.\u001b[39;49m\u001b[43mopen\u001b[49m\u001b[43m(\u001b[49m\u001b[43mfilename\u001b[49m\u001b[43m,\u001b[49m\u001b[43m \u001b[49m\u001b[38;5;124;43m\"\u001b[39;49m\u001b[38;5;124;43mrb\u001b[39;49m\u001b[38;5;124;43m\"\u001b[39;49m\u001b[43m)\u001b[49m\n\u001b[1;32m   3237\u001b[0m     exclusive_fp \u001b[38;5;241m=\u001b[39m \u001b[38;5;28;01mTrue\u001b[39;00m\n\u001b[1;32m   3239\u001b[0m \u001b[38;5;28;01mtry\u001b[39;00m:\n",
      "\u001b[0;31mFileNotFoundError\u001b[0m: [Errno 2] No such file or directory: '/home/edloftus/code/AtinDhawan/Dog_Identifier/raw_data/n02085620_326.jpg'"
     ]
    }
   ],
   "source": [
    "from matplotlib import image\n",
    "from matplotlib import pyplot\n",
    "# load image as pixel array\n",
    "photo = image.imread('/home/edloftus/code/AtinDhawan/Dog_Identifier/raw_data/n02085620_326.jpg')\n",
    "# summarize shape of the pixel array\n",
    "photo"
   ]
  },
  {
   "cell_type": "code",
   "execution_count": 24,
   "id": "b2f68873",
   "metadata": {},
   "outputs": [
    {
     "data": {
      "text/plain": [
       "(500, 333, 3)"
      ]
     },
     "execution_count": 24,
     "metadata": {},
     "output_type": "execute_result"
    }
   ],
   "source": [
    "photo.shape"
   ]
  },
  {
   "cell_type": "code",
   "execution_count": 9,
   "id": "060ae699",
   "metadata": {},
   "outputs": [
    {
     "data": {
      "text/plain": [
       "(4, 333, 3)"
      ]
     },
     "execution_count": 9,
     "metadata": {},
     "output_type": "execute_result"
    }
   ],
   "source": [
    "# 158\t347\t107\t288\n",
    "photo = image.imread('/home/edloftus/code/AtinDhawan/Dog_Identifier/raw_data/n02085620_326.jpg')\n",
    "photo.shape"
   ]
  },
  {
   "cell_type": "code",
   "execution_count": null,
   "id": "e77aedf3",
   "metadata": {},
   "outputs": [],
   "source": [
    "df['cropped_image'] = image.imread(f'/home/edloftus/code/AtinDhawan/Dog_Identifier/raw_data/{df['file_name']}.jpg')[df['image_height']-df['ymax']:df['image_height']'df['ymin'], df['xmin']:df['xmax'],:]"
   ]
  },
  {
   "cell_type": "code",
   "execution_count": 31,
   "id": "ed0aa01a",
   "metadata": {},
   "outputs": [
    {
     "data": {
      "text/html": [
       "<div>\n",
       "<style scoped>\n",
       "    .dataframe tbody tr th:only-of-type {\n",
       "        vertical-align: middle;\n",
       "    }\n",
       "\n",
       "    .dataframe tbody tr th {\n",
       "        vertical-align: top;\n",
       "    }\n",
       "\n",
       "    .dataframe thead th {\n",
       "        text-align: right;\n",
       "    }\n",
       "</style>\n",
       "<table border=\"1\" class=\"dataframe\">\n",
       "  <thead>\n",
       "    <tr style=\"text-align: right;\">\n",
       "      <th></th>\n",
       "      <th>file_name</th>\n",
       "      <th>image_width</th>\n",
       "      <th>image_height</th>\n",
       "      <th>image_depth</th>\n",
       "      <th>breed</th>\n",
       "      <th>xmin</th>\n",
       "      <th>xmax</th>\n",
       "      <th>ymin</th>\n",
       "      <th>ymax</th>\n",
       "    </tr>\n",
       "  </thead>\n",
       "  <tbody>\n",
       "    <tr>\n",
       "      <th>0</th>\n",
       "      <td>n02101388_3416</td>\n",
       "      <td>500</td>\n",
       "      <td>333</td>\n",
       "      <td>3</td>\n",
       "      <td>Brittany_spaniel</td>\n",
       "      <td>158</td>\n",
       "      <td>347</td>\n",
       "      <td>107</td>\n",
       "      <td>288</td>\n",
       "    </tr>\n",
       "    <tr>\n",
       "      <th>1</th>\n",
       "      <td>n02106382_1787</td>\n",
       "      <td>448</td>\n",
       "      <td>299</td>\n",
       "      <td>3</td>\n",
       "      <td>Bouvier_des_Flandres</td>\n",
       "      <td>181</td>\n",
       "      <td>444</td>\n",
       "      <td>45</td>\n",
       "      <td>236</td>\n",
       "    </tr>\n",
       "    <tr>\n",
       "      <th>2</th>\n",
       "      <td>n02104365_1158</td>\n",
       "      <td>2048</td>\n",
       "      <td>1536</td>\n",
       "      <td>3</td>\n",
       "      <td>schipperke</td>\n",
       "      <td>457</td>\n",
       "      <td>1302</td>\n",
       "      <td>57</td>\n",
       "      <td>1528</td>\n",
       "    </tr>\n",
       "    <tr>\n",
       "      <th>3</th>\n",
       "      <td>n02085936_9590</td>\n",
       "      <td>500</td>\n",
       "      <td>375</td>\n",
       "      <td>3</td>\n",
       "      <td>Maltese_dog</td>\n",
       "      <td>148</td>\n",
       "      <td>492</td>\n",
       "      <td>16</td>\n",
       "      <td>374</td>\n",
       "    </tr>\n",
       "    <tr>\n",
       "      <th>4</th>\n",
       "      <td>n02100236_3877</td>\n",
       "      <td>500</td>\n",
       "      <td>272</td>\n",
       "      <td>3</td>\n",
       "      <td>German_short-haired_pointer</td>\n",
       "      <td>217</td>\n",
       "      <td>302</td>\n",
       "      <td>32</td>\n",
       "      <td>246</td>\n",
       "    </tr>\n",
       "    <tr>\n",
       "      <th>...</th>\n",
       "      <td>...</td>\n",
       "      <td>...</td>\n",
       "      <td>...</td>\n",
       "      <td>...</td>\n",
       "      <td>...</td>\n",
       "      <td>...</td>\n",
       "      <td>...</td>\n",
       "      <td>...</td>\n",
       "      <td>...</td>\n",
       "    </tr>\n",
       "    <tr>\n",
       "      <th>20575</th>\n",
       "      <td>n02088238_11511</td>\n",
       "      <td>500</td>\n",
       "      <td>333</td>\n",
       "      <td>3</td>\n",
       "      <td>basset</td>\n",
       "      <td>0</td>\n",
       "      <td>418</td>\n",
       "      <td>34</td>\n",
       "      <td>331</td>\n",
       "    </tr>\n",
       "    <tr>\n",
       "      <th>20576</th>\n",
       "      <td>n02106166_6569</td>\n",
       "      <td>240</td>\n",
       "      <td>134</td>\n",
       "      <td>3</td>\n",
       "      <td>Border_collie</td>\n",
       "      <td>150</td>\n",
       "      <td>236</td>\n",
       "      <td>5</td>\n",
       "      <td>102</td>\n",
       "    </tr>\n",
       "    <tr>\n",
       "      <th>20577</th>\n",
       "      <td>n02098286_2502</td>\n",
       "      <td>500</td>\n",
       "      <td>375</td>\n",
       "      <td>3</td>\n",
       "      <td>West_Highland_white_terrier</td>\n",
       "      <td>43</td>\n",
       "      <td>345</td>\n",
       "      <td>43</td>\n",
       "      <td>293</td>\n",
       "    </tr>\n",
       "    <tr>\n",
       "      <th>20578</th>\n",
       "      <td>n02112018_13930</td>\n",
       "      <td>500</td>\n",
       "      <td>375</td>\n",
       "      <td>3</td>\n",
       "      <td>Pomeranian</td>\n",
       "      <td>175</td>\n",
       "      <td>358</td>\n",
       "      <td>35</td>\n",
       "      <td>289</td>\n",
       "    </tr>\n",
       "    <tr>\n",
       "      <th>20579</th>\n",
       "      <td>n02088238_9324</td>\n",
       "      <td>400</td>\n",
       "      <td>300</td>\n",
       "      <td>3</td>\n",
       "      <td>basset</td>\n",
       "      <td>35</td>\n",
       "      <td>365</td>\n",
       "      <td>94</td>\n",
       "      <td>226</td>\n",
       "    </tr>\n",
       "  </tbody>\n",
       "</table>\n",
       "<p>20580 rows × 9 columns</p>\n",
       "</div>"
      ],
      "text/plain": [
       "             file_name  image_width  image_height  image_depth  \\\n",
       "0       n02101388_3416          500           333            3   \n",
       "1       n02106382_1787          448           299            3   \n",
       "2       n02104365_1158         2048          1536            3   \n",
       "3       n02085936_9590          500           375            3   \n",
       "4       n02100236_3877          500           272            3   \n",
       "...                ...          ...           ...          ...   \n",
       "20575  n02088238_11511          500           333            3   \n",
       "20576   n02106166_6569          240           134            3   \n",
       "20577   n02098286_2502          500           375            3   \n",
       "20578  n02112018_13930          500           375            3   \n",
       "20579   n02088238_9324          400           300            3   \n",
       "\n",
       "                             breed  xmin  xmax  ymin  ymax  \n",
       "0                 Brittany_spaniel   158   347   107   288  \n",
       "1             Bouvier_des_Flandres   181   444    45   236  \n",
       "2                       schipperke   457  1302    57  1528  \n",
       "3                      Maltese_dog   148   492    16   374  \n",
       "4      German_short-haired_pointer   217   302    32   246  \n",
       "...                            ...   ...   ...   ...   ...  \n",
       "20575                       basset     0   418    34   331  \n",
       "20576                Border_collie   150   236     5   102  \n",
       "20577  West_Highland_white_terrier    43   345    43   293  \n",
       "20578                   Pomeranian   175   358    35   289  \n",
       "20579                       basset    35   365    94   226  \n",
       "\n",
       "[20580 rows x 9 columns]"
      ]
     },
     "execution_count": 31,
     "metadata": {},
     "output_type": "execute_result"
    }
   ],
   "source": [
    "df"
   ]
  },
  {
   "cell_type": "markdown",
   "id": "444da627",
   "metadata": {},
   "source": [
    "Plan of action for tomorrow:\n",
    "Create code to move the image files into a folder in raw_data called Images\n",
    "finish the code for the cropped images column, where the slices consist of the (maxy-cropmaxy:maxy-cropminy), (maxx-cropmaxx:maxx-cropminx)\n",
    "Need to see how 3d arrays can be saved, they may need to be saved as flattened images - .reshape(1, .size)"
   ]
  },
  {
   "cell_type": "code",
   "execution_count": null,
   "id": "683b5f07",
   "metadata": {},
   "outputs": [],
   "source": [
    "to_be_moved2 = [dirs[0] for dirs in os.walk(\"/home/edloftus/code/AtinDhawan/Dog_Identifier/raw_data/All_Photos\", topdown=False)][:-1]"
   ]
  },
  {
   "cell_type": "code",
   "execution_count": null,
   "id": "f72e8691",
   "metadata": {},
   "outputs": [],
   "source": [
    "for folder_name in to_be_moved2:\n",
    "    source_dir = folder_name\n",
    "    target_dir = '/home/edloftus/code/AtinDhawan/Dog_Identifier/raw_data/All_Photos'\n",
    "    \n",
    "    file_names = os.listdir(source_dir)\n",
    "    \n",
    "    for file_name in file_names:\n",
    "        if not file_name.endswith('Zone.Identifier'):\n",
    "            shutil.copy(os.path.join(source_dir, file_name), target_dir)"
   ]
  },
  {
   "cell_type": "code",
   "execution_count": null,
   "id": "c4ebe6b9",
   "metadata": {},
   "outputs": [],
   "source": []
  },
  {
   "cell_type": "markdown",
   "id": "f9a1cc1b",
   "metadata": {},
   "source": [
    "Checking DataFrame Details"
   ]
  },
  {
   "cell_type": "code",
   "execution_count": 13,
   "id": "c32bf070",
   "metadata": {},
   "outputs": [],
   "source": [
    "yes = pd.DataFrame([[1, 2, 3, 4], [5, 6, 7, 8], [9, 10, 11, 12]])"
   ]
  },
  {
   "cell_type": "code",
   "execution_count": 14,
   "id": "6dde2efc",
   "metadata": {},
   "outputs": [
    {
     "name": "stdout",
     "output_type": "stream",
     "text": [
      "1\n",
      "5\n",
      "9\n"
     ]
    }
   ],
   "source": [
    "for i in range(len(yes)):\n",
    "    print(yes[0][i])"
   ]
  },
  {
   "cell_type": "code",
   "execution_count": 16,
   "id": "034d1f6c",
   "metadata": {},
   "outputs": [
    {
     "data": {
      "text/plain": [
       "[3, 11, 19]"
      ]
     },
     "execution_count": 16,
     "metadata": {},
     "output_type": "execute_result"
    }
   ],
   "source": [
    "column = []\n",
    "for i in range(len(yes)):\n",
    "    column.append(yes[0][i]+yes[1][i])\n",
    "column"
   ]
  },
  {
   "cell_type": "code",
   "execution_count": 17,
   "id": "7b9c2dee",
   "metadata": {},
   "outputs": [],
   "source": [
    "yes['new column'] = column"
   ]
  },
  {
   "cell_type": "code",
   "execution_count": 18,
   "id": "383b6045",
   "metadata": {},
   "outputs": [
    {
     "data": {
      "text/html": [
       "<div>\n",
       "<style scoped>\n",
       "    .dataframe tbody tr th:only-of-type {\n",
       "        vertical-align: middle;\n",
       "    }\n",
       "\n",
       "    .dataframe tbody tr th {\n",
       "        vertical-align: top;\n",
       "    }\n",
       "\n",
       "    .dataframe thead th {\n",
       "        text-align: right;\n",
       "    }\n",
       "</style>\n",
       "<table border=\"1\" class=\"dataframe\">\n",
       "  <thead>\n",
       "    <tr style=\"text-align: right;\">\n",
       "      <th></th>\n",
       "      <th>0</th>\n",
       "      <th>1</th>\n",
       "      <th>2</th>\n",
       "      <th>3</th>\n",
       "      <th>new column</th>\n",
       "    </tr>\n",
       "  </thead>\n",
       "  <tbody>\n",
       "    <tr>\n",
       "      <th>0</th>\n",
       "      <td>1</td>\n",
       "      <td>2</td>\n",
       "      <td>3</td>\n",
       "      <td>4</td>\n",
       "      <td>3</td>\n",
       "    </tr>\n",
       "    <tr>\n",
       "      <th>1</th>\n",
       "      <td>5</td>\n",
       "      <td>6</td>\n",
       "      <td>7</td>\n",
       "      <td>8</td>\n",
       "      <td>11</td>\n",
       "    </tr>\n",
       "    <tr>\n",
       "      <th>2</th>\n",
       "      <td>9</td>\n",
       "      <td>10</td>\n",
       "      <td>11</td>\n",
       "      <td>12</td>\n",
       "      <td>19</td>\n",
       "    </tr>\n",
       "  </tbody>\n",
       "</table>\n",
       "</div>"
      ],
      "text/plain": [
       "   0   1   2   3  new column\n",
       "0  1   2   3   4           3\n",
       "1  5   6   7   8          11\n",
       "2  9  10  11  12          19"
      ]
     },
     "execution_count": 18,
     "metadata": {},
     "output_type": "execute_result"
    }
   ],
   "source": [
    "yes"
   ]
  }
 ],
 "metadata": {
  "kernelspec": {
   "display_name": "Python 3 (ipykernel)",
   "language": "python",
   "name": "python3"
  },
  "language_info": {
   "codemirror_mode": {
    "name": "ipython",
    "version": 3
   },
   "file_extension": ".py",
   "mimetype": "text/x-python",
   "name": "python",
   "nbconvert_exporter": "python",
   "pygments_lexer": "ipython3",
   "version": "3.10.6"
  },
  "toc": {
   "base_numbering": 1,
   "nav_menu": {},
   "number_sections": true,
   "sideBar": true,
   "skip_h1_title": false,
   "title_cell": "Table of Contents",
   "title_sidebar": "Contents",
   "toc_cell": false,
   "toc_position": {},
   "toc_section_display": true,
   "toc_window_display": false
  }
 },
 "nbformat": 4,
 "nbformat_minor": 5
}
