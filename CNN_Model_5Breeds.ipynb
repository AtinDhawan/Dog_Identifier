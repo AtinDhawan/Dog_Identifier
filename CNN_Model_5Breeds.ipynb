{
 "cells": [
  {
   "cell_type": "code",
   "execution_count": 32,
   "id": "a3bf084f",
   "metadata": {},
   "outputs": [],
   "source": [
    "import os\n",
    "import pandas as pd\n",
    "import numpy as np\n",
    "from keras.applications.resnet_v2 import ResNet50V2\n",
    "import tensorflow as tf\n",
    "from tensorflow.keras import models, Sequential, layers, optimizers, callbacks\n",
    "from tensorflow.keras.layers import Dense, Reshape\n",
    "from keras.preprocessing import image \n",
    "from tqdm import tqdm\n",
    "from sklearn.model_selection import train_test_split"
   ]
  },
  {
   "cell_type": "code",
   "execution_count": 3,
   "id": "70c18002",
   "metadata": {},
   "outputs": [],
   "source": [
    "dog = os.listdir('/Users/atindhawan/code/AtinDhawan/Dog_Identifier/Dog_Identifier/cropped/cropped/train')"
   ]
  },
  {
   "cell_type": "code",
   "execution_count": 8,
   "id": "210a7afa",
   "metadata": {},
   "outputs": [],
   "source": [
    "breed_1 = ('/Users/atindhawan/code/AtinDhawan/Dog_Identifier/Dog_Identifier/cropped/cropped/train/n02088364-beagle')\n",
    "breed_2 = ('/Users/atindhawan/code/AtinDhawan/Dog_Identifier/Dog_Identifier/cropped/cropped/train/n02094433-Yorkshire_terrier')\n",
    "breed_3 = ('/Users/atindhawan/code/AtinDhawan/Dog_Identifier/Dog_Identifier/cropped/cropped/train/n02099601-golden_retriever')\n",
    "breed_4 = ('/Users/atindhawan/code/AtinDhawan/Dog_Identifier/Dog_Identifier/cropped/cropped/train/n02106662-German_shepherd')\n",
    "breed_5 = ('/Users/atindhawan/code/AtinDhawan/Dog_Identifier/Dog_Identifier/cropped/cropped/train/n02108089-boxer')\n"
   ]
  },
  {
   "cell_type": "code",
   "execution_count": 9,
   "id": "b59f0dfe",
   "metadata": {},
   "outputs": [],
   "source": [
    "five_breeds_code = ['n02088364-beagle', 'n02094433-Yorkshire_terrier', 'n02099601-golden_retriever', 'n02106662-German_shepherd', 'n02108089-boxer']"
   ]
  },
  {
   "cell_type": "code",
   "execution_count": 35,
   "id": "44e3ade1",
   "metadata": {},
   "outputs": [],
   "source": [
    "root_dir = '/Users/atindhawan/code/AtinDhawan/Dog_Identifier/Dog_Identifier/5breeds'\n",
    "\n",
    "# dataset_dir=[]\n",
    "# for i in range(5):\n",
    "#     dataset_dir.append(os.path.join(root_dir, five_breeds_code[i]))"
   ]
  },
  {
   "cell_type": "code",
   "execution_count": 36,
   "id": "c8f61d1d",
   "metadata": {},
   "outputs": [
    {
     "data": {
      "text/plain": [
       "['n02099601-golden_retriever',\n",
       " '.DS_Store',\n",
       " 'n02106662-German_shepherd',\n",
       " 'n02108089-boxer',\n",
       " 'n02088364-beagle',\n",
       " 'n02094433-Yorkshire_terrier']"
      ]
     },
     "execution_count": 36,
     "metadata": {},
     "output_type": "execute_result"
    }
   ],
   "source": [
    "directories = os.listdir('/Users/atindhawan/code/AtinDhawan/Dog_Identifier/Dog_Identifier/5breeds')\n",
    "directories"
   ]
  },
  {
   "cell_type": "code",
   "execution_count": 38,
   "id": "bef81416",
   "metadata": {},
   "outputs": [],
   "source": [
    "images = []\n",
    "dog_code = []\n",
    "# new_class_names = []\n",
    "\n",
    "for directory in directories:\n",
    "    if directory != \".DS_Store\":\n",
    "#     new_class_names.append(directory[10:])\n",
    "        image_files = os.path.join(root_dir, directory)\n",
    "        new_path = os.listdir(os.path.join(root_dir, directory))\n",
    "        images.extend([os.path.join(root_dir, directory, f) for f in new_path])\n",
    "        dog_code.extend([f.replace(\".jpg\",\"\")[:9] for f in new_path])\n"
   ]
  },
  {
   "cell_type": "code",
   "execution_count": 41,
   "id": "e665cee2",
   "metadata": {},
   "outputs": [
    {
     "data": {
      "text/plain": [
       "{'n02106662': 0,\n",
       " 'n02108089': 1,\n",
       " 'n02099601': 2,\n",
       " 'n02094433': 3,\n",
       " 'n02088364': 4}"
      ]
     },
     "execution_count": 41,
     "metadata": {},
     "output_type": "execute_result"
    }
   ],
   "source": [
    "new_class_names = list(set(dog_code))\n"
   ]
  },
  {
   "cell_type": "code",
   "execution_count": 60,
   "id": "153d07c0",
   "metadata": {},
   "outputs": [
    {
     "data": {
      "text/plain": [
       "{'n02106662': 0,\n",
       " 'n02108089': 1,\n",
       " 'n02099601': 2,\n",
       " 'n02094433': 3,\n",
       " 'n02088364': 4}"
      ]
     },
     "execution_count": 60,
     "metadata": {},
     "output_type": "execute_result"
    }
   ],
   "source": [
    "dict_breed"
   ]
  },
  {
   "cell_type": "code",
   "execution_count": 40,
   "id": "db55c398",
   "metadata": {},
   "outputs": [
    {
     "data": {
      "text/plain": [
       "[0, 1, 2, 3, 4]"
      ]
     },
     "execution_count": 40,
     "metadata": {},
     "output_type": "execute_result"
    }
   ],
   "source": [
    "vectors = [i for i in range(5)]\n",
    "dict_breed = dict(zip(new_class_names, vectors))\n",
    "dict_breed"
   ]
  },
  {
   "cell_type": "code",
   "execution_count": 42,
   "id": "508957f6",
   "metadata": {},
   "outputs": [
    {
     "data": {
      "text/plain": [
       "[2,\n",
       " 2,\n",
       " 2,\n",
       " 2,\n",
       " 2,\n",
       " 2,\n",
       " 2,\n",
       " 2,\n",
       " 2,\n",
       " 2,\n",
       " 2,\n",
       " 2,\n",
       " 2,\n",
       " 2,\n",
       " 2,\n",
       " 2,\n",
       " 2,\n",
       " 2,\n",
       " 2,\n",
       " 2,\n",
       " 2,\n",
       " 2,\n",
       " 2,\n",
       " 2,\n",
       " 2,\n",
       " 2,\n",
       " 2,\n",
       " 2,\n",
       " 2,\n",
       " 2,\n",
       " 2,\n",
       " 2,\n",
       " 2,\n",
       " 2,\n",
       " 2,\n",
       " 2,\n",
       " 2,\n",
       " 2,\n",
       " 2,\n",
       " 2,\n",
       " 2,\n",
       " 2,\n",
       " 2,\n",
       " 2,\n",
       " 2,\n",
       " 2,\n",
       " 2,\n",
       " 2,\n",
       " 2,\n",
       " 2,\n",
       " 2,\n",
       " 2,\n",
       " 2,\n",
       " 2,\n",
       " 2,\n",
       " 2,\n",
       " 2,\n",
       " 2,\n",
       " 2,\n",
       " 2,\n",
       " 2,\n",
       " 2,\n",
       " 2,\n",
       " 2,\n",
       " 2,\n",
       " 2,\n",
       " 2,\n",
       " 2,\n",
       " 2,\n",
       " 2,\n",
       " 2,\n",
       " 2,\n",
       " 2,\n",
       " 2,\n",
       " 2,\n",
       " 2,\n",
       " 2,\n",
       " 2,\n",
       " 2,\n",
       " 2,\n",
       " 2,\n",
       " 2,\n",
       " 2,\n",
       " 2,\n",
       " 2,\n",
       " 2,\n",
       " 2,\n",
       " 2,\n",
       " 2,\n",
       " 2,\n",
       " 2,\n",
       " 2,\n",
       " 2,\n",
       " 2,\n",
       " 2,\n",
       " 2,\n",
       " 2,\n",
       " 2,\n",
       " 2,\n",
       " 2,\n",
       " 0,\n",
       " 0,\n",
       " 0,\n",
       " 0,\n",
       " 0,\n",
       " 0,\n",
       " 0,\n",
       " 0,\n",
       " 0,\n",
       " 0,\n",
       " 0,\n",
       " 0,\n",
       " 0,\n",
       " 0,\n",
       " 0,\n",
       " 0,\n",
       " 0,\n",
       " 0,\n",
       " 0,\n",
       " 0,\n",
       " 0,\n",
       " 0,\n",
       " 0,\n",
       " 0,\n",
       " 0,\n",
       " 0,\n",
       " 0,\n",
       " 0,\n",
       " 0,\n",
       " 0,\n",
       " 0,\n",
       " 0,\n",
       " 0,\n",
       " 0,\n",
       " 0,\n",
       " 0,\n",
       " 0,\n",
       " 0,\n",
       " 0,\n",
       " 0,\n",
       " 0,\n",
       " 0,\n",
       " 0,\n",
       " 0,\n",
       " 0,\n",
       " 0,\n",
       " 0,\n",
       " 0,\n",
       " 0,\n",
       " 0,\n",
       " 0,\n",
       " 0,\n",
       " 0,\n",
       " 0,\n",
       " 0,\n",
       " 0,\n",
       " 0,\n",
       " 0,\n",
       " 0,\n",
       " 0,\n",
       " 0,\n",
       " 0,\n",
       " 0,\n",
       " 0,\n",
       " 0,\n",
       " 0,\n",
       " 0,\n",
       " 0,\n",
       " 0,\n",
       " 0,\n",
       " 0,\n",
       " 0,\n",
       " 0,\n",
       " 0,\n",
       " 0,\n",
       " 0,\n",
       " 0,\n",
       " 0,\n",
       " 0,\n",
       " 0,\n",
       " 0,\n",
       " 0,\n",
       " 0,\n",
       " 0,\n",
       " 0,\n",
       " 0,\n",
       " 0,\n",
       " 0,\n",
       " 0,\n",
       " 0,\n",
       " 0,\n",
       " 0,\n",
       " 0,\n",
       " 0,\n",
       " 0,\n",
       " 0,\n",
       " 0,\n",
       " 0,\n",
       " 0,\n",
       " 0,\n",
       " 1,\n",
       " 1,\n",
       " 1,\n",
       " 1,\n",
       " 1,\n",
       " 1,\n",
       " 1,\n",
       " 1,\n",
       " 1,\n",
       " 1,\n",
       " 1,\n",
       " 1,\n",
       " 1,\n",
       " 1,\n",
       " 1,\n",
       " 1,\n",
       " 1,\n",
       " 1,\n",
       " 1,\n",
       " 1,\n",
       " 1,\n",
       " 1,\n",
       " 1,\n",
       " 1,\n",
       " 1,\n",
       " 1,\n",
       " 1,\n",
       " 1,\n",
       " 1,\n",
       " 1,\n",
       " 1,\n",
       " 1,\n",
       " 1,\n",
       " 1,\n",
       " 1,\n",
       " 1,\n",
       " 1,\n",
       " 1,\n",
       " 1,\n",
       " 1,\n",
       " 1,\n",
       " 1,\n",
       " 1,\n",
       " 1,\n",
       " 1,\n",
       " 1,\n",
       " 1,\n",
       " 1,\n",
       " 1,\n",
       " 1,\n",
       " 1,\n",
       " 1,\n",
       " 1,\n",
       " 1,\n",
       " 1,\n",
       " 1,\n",
       " 1,\n",
       " 1,\n",
       " 1,\n",
       " 1,\n",
       " 1,\n",
       " 1,\n",
       " 1,\n",
       " 1,\n",
       " 1,\n",
       " 1,\n",
       " 1,\n",
       " 1,\n",
       " 1,\n",
       " 1,\n",
       " 1,\n",
       " 1,\n",
       " 1,\n",
       " 1,\n",
       " 1,\n",
       " 1,\n",
       " 1,\n",
       " 1,\n",
       " 1,\n",
       " 1,\n",
       " 1,\n",
       " 1,\n",
       " 1,\n",
       " 1,\n",
       " 1,\n",
       " 1,\n",
       " 1,\n",
       " 1,\n",
       " 1,\n",
       " 1,\n",
       " 1,\n",
       " 1,\n",
       " 1,\n",
       " 1,\n",
       " 1,\n",
       " 1,\n",
       " 1,\n",
       " 1,\n",
       " 1,\n",
       " 1,\n",
       " 4,\n",
       " 4,\n",
       " 4,\n",
       " 4,\n",
       " 4,\n",
       " 4,\n",
       " 4,\n",
       " 4,\n",
       " 4,\n",
       " 4,\n",
       " 4,\n",
       " 4,\n",
       " 4,\n",
       " 4,\n",
       " 4,\n",
       " 4,\n",
       " 4,\n",
       " 4,\n",
       " 4,\n",
       " 4,\n",
       " 4,\n",
       " 4,\n",
       " 4,\n",
       " 4,\n",
       " 4,\n",
       " 4,\n",
       " 4,\n",
       " 4,\n",
       " 4,\n",
       " 4,\n",
       " 4,\n",
       " 4,\n",
       " 4,\n",
       " 4,\n",
       " 4,\n",
       " 4,\n",
       " 4,\n",
       " 4,\n",
       " 4,\n",
       " 4,\n",
       " 4,\n",
       " 4,\n",
       " 4,\n",
       " 4,\n",
       " 4,\n",
       " 4,\n",
       " 4,\n",
       " 4,\n",
       " 4,\n",
       " 4,\n",
       " 4,\n",
       " 4,\n",
       " 4,\n",
       " 4,\n",
       " 4,\n",
       " 4,\n",
       " 4,\n",
       " 4,\n",
       " 4,\n",
       " 4,\n",
       " 4,\n",
       " 4,\n",
       " 4,\n",
       " 4,\n",
       " 4,\n",
       " 4,\n",
       " 4,\n",
       " 4,\n",
       " 4,\n",
       " 4,\n",
       " 4,\n",
       " 4,\n",
       " 4,\n",
       " 4,\n",
       " 4,\n",
       " 4,\n",
       " 4,\n",
       " 4,\n",
       " 4,\n",
       " 4,\n",
       " 4,\n",
       " 4,\n",
       " 4,\n",
       " 4,\n",
       " 4,\n",
       " 4,\n",
       " 4,\n",
       " 4,\n",
       " 4,\n",
       " 4,\n",
       " 4,\n",
       " 4,\n",
       " 4,\n",
       " 4,\n",
       " 4,\n",
       " 4,\n",
       " 4,\n",
       " 4,\n",
       " 4,\n",
       " 4,\n",
       " 3,\n",
       " 3,\n",
       " 3,\n",
       " 3,\n",
       " 3,\n",
       " 3,\n",
       " 3,\n",
       " 3,\n",
       " 3,\n",
       " 3,\n",
       " 3,\n",
       " 3,\n",
       " 3,\n",
       " 3,\n",
       " 3,\n",
       " 3,\n",
       " 3,\n",
       " 3,\n",
       " 3,\n",
       " 3,\n",
       " 3,\n",
       " 3,\n",
       " 3,\n",
       " 3,\n",
       " 3,\n",
       " 3,\n",
       " 3,\n",
       " 3,\n",
       " 3,\n",
       " 3,\n",
       " 3,\n",
       " 3,\n",
       " 3,\n",
       " 3,\n",
       " 3,\n",
       " 3,\n",
       " 3,\n",
       " 3,\n",
       " 3,\n",
       " 3,\n",
       " 3,\n",
       " 3,\n",
       " 3,\n",
       " 3,\n",
       " 3,\n",
       " 3,\n",
       " 3,\n",
       " 3,\n",
       " 3,\n",
       " 3,\n",
       " 3,\n",
       " 3,\n",
       " 3,\n",
       " 3,\n",
       " 3,\n",
       " 3,\n",
       " 3,\n",
       " 3,\n",
       " 3,\n",
       " 3,\n",
       " 3,\n",
       " 3,\n",
       " 3,\n",
       " 3,\n",
       " 3,\n",
       " 3,\n",
       " 3,\n",
       " 3,\n",
       " 3,\n",
       " 3,\n",
       " 3,\n",
       " 3,\n",
       " 3,\n",
       " 3,\n",
       " 3,\n",
       " 3,\n",
       " 3,\n",
       " 3,\n",
       " 3,\n",
       " 3,\n",
       " 3,\n",
       " 3,\n",
       " 3,\n",
       " 3,\n",
       " 3,\n",
       " 3,\n",
       " 3,\n",
       " 3,\n",
       " 3,\n",
       " 3,\n",
       " 3,\n",
       " 3,\n",
       " 3,\n",
       " 3,\n",
       " 3,\n",
       " 3,\n",
       " 3,\n",
       " 3,\n",
       " 3,\n",
       " 3]"
      ]
     },
     "execution_count": 42,
     "metadata": {},
     "output_type": "execute_result"
    }
   ],
   "source": [
    "vector_dog_code = []\n",
    "\n",
    "for i in dog_code:\n",
    "    vector_dog_code.append(dict_breed[i])\n",
    "\n",
    "vector_dog_code"
   ]
  },
  {
   "cell_type": "code",
   "execution_count": 43,
   "id": "d412a550",
   "metadata": {},
   "outputs": [],
   "source": [
    "def load_image(folder_name):\n",
    "    image = tf.io.read_file(folder_name)\n",
    "    image = tf.image.decode_jpeg(image, channels=3)\n",
    "    image = tf.image.resize(image, [224,224])\n",
    "#     new_class_names = [i[10:] for i in class_names]\n",
    "    \n",
    "    return image\n"
   ]
  },
  {
   "cell_type": "code",
   "execution_count": 44,
   "id": "2819410c",
   "metadata": {},
   "outputs": [],
   "source": [
    "lst_of_imgs = []\n",
    "for i in images:\n",
    "    lst_of_imgs.append(load_image(i))\n"
   ]
  },
  {
   "cell_type": "code",
   "execution_count": 46,
   "id": "4817cd63",
   "metadata": {},
   "outputs": [],
   "source": [
    "X = np.asarray(lst_of_imgs)\n",
    "y = np.asarray(vector_dog_code)\n"
   ]
  },
  {
   "cell_type": "code",
   "execution_count": 47,
   "id": "55dda0d3",
   "metadata": {},
   "outputs": [
    {
     "data": {
      "text/plain": [
       "((500, 224, 224, 3), (500,))"
      ]
     },
     "execution_count": 47,
     "metadata": {},
     "output_type": "execute_result"
    }
   ],
   "source": [
    "X.shape, y.shape"
   ]
  },
  {
   "cell_type": "code",
   "execution_count": null,
   "id": "c1664598",
   "metadata": {},
   "outputs": [],
   "source": []
  },
  {
   "cell_type": "code",
   "execution_count": 54,
   "id": "2a160a82",
   "metadata": {},
   "outputs": [],
   "source": [
    "X_train, X_test, y_train, y_test = train_test_split(X,y,test_size = 0.2)"
   ]
  },
  {
   "cell_type": "code",
   "execution_count": 55,
   "id": "9cc184d0",
   "metadata": {},
   "outputs": [
    {
     "ename": "AttributeError",
     "evalue": "'numpy.ndarray' object has no attribute 'map'",
     "output_type": "error",
     "traceback": [
      "\u001b[0;31m---------------------------------------------------------------------------\u001b[0m",
      "\u001b[0;31mAttributeError\u001b[0m                            Traceback (most recent call last)",
      "Cell \u001b[0;32mIn[55], line 8\u001b[0m\n\u001b[1;32m      5\u001b[0m     \u001b[38;5;28;01mreturn\u001b[39;00m tf\u001b[38;5;241m.\u001b[39mimage\u001b[38;5;241m.\u001b[39madjust_contrast(image, \u001b[38;5;241m1.2\u001b[39m)\n\u001b[1;32m      7\u001b[0m \u001b[38;5;66;03m# Apply brightness adjustment to the train dataset\u001b[39;00m\n\u001b[0;32m----> 8\u001b[0m X_train_adjusted \u001b[38;5;241m=\u001b[39m \u001b[43mX_train\u001b[49m\u001b[38;5;241;43m.\u001b[39;49m\u001b[43mmap\u001b[49m(\u001b[38;5;28;01mlambda\u001b[39;00m x, y: (adjust_brightness(x), y))\n\u001b[1;32m      9\u001b[0m X_test_adjusted \u001b[38;5;241m=\u001b[39m X_test\u001b[38;5;241m.\u001b[39mmap(\u001b[38;5;28;01mlambda\u001b[39;00m x, y: (adjust_brightness(x), y))\n\u001b[1;32m     11\u001b[0m \u001b[38;5;66;03m# Apply contrast adjustment to the train dataset\u001b[39;00m\n",
      "\u001b[0;31mAttributeError\u001b[0m: 'numpy.ndarray' object has no attribute 'map'"
     ]
    }
   ],
   "source": [
    "def adjust_brightness(image):\n",
    "    return tf.image.adjust_brightness(image, 0.01)\n",
    "\n",
    "def adjust_contrast(image):\n",
    "    return tf.image.adjust_contrast(image, 1.2)\n",
    "\n",
    "# Apply brightness adjustment to the train dataset\n",
    "X_train_adjusted = X_train.map(lambda x, y: (adjust_brightness(x), y))\n",
    "X_test_adjusted = X_test.map(lambda x, y: (adjust_brightness(x), y))\n",
    "\n",
    "# Apply contrast adjustment to the train dataset\n",
    "y_train_adjusted = y_train.map(lambda x, y: (adjust_contrast(x), y))\n",
    "y_train_adjusted = y_train.map(lambda x, y: (adjust_contrast(x), y))"
   ]
  },
  {
   "cell_type": "code",
   "execution_count": null,
   "id": "2c8de427",
   "metadata": {},
   "outputs": [],
   "source": []
  },
  {
   "cell_type": "code",
   "execution_count": 56,
   "id": "8217232b",
   "metadata": {
    "scrolled": true
   },
   "outputs": [
    {
     "name": "stdout",
     "output_type": "stream",
     "text": [
      "Model: \"sequential_2\"\n",
      "_________________________________________________________________\n",
      " Layer (type)                Output Shape              Param #   \n",
      "=================================================================\n",
      " conv2d_8 (Conv2D)           (None, 224, 224, 16)      448       \n",
      "                                                                 \n",
      " conv2d_9 (Conv2D)           (None, 224, 224, 32)      4640      \n",
      "                                                                 \n",
      " max_pooling2d_6 (MaxPoolin  (None, 112, 112, 32)      0         \n",
      " g2D)                                                            \n",
      "                                                                 \n",
      " conv2d_10 (Conv2D)          (None, 112, 112, 64)      18496     \n",
      "                                                                 \n",
      " max_pooling2d_7 (MaxPoolin  (None, 56, 56, 64)        0         \n",
      " g2D)                                                            \n",
      "                                                                 \n",
      " conv2d_11 (Conv2D)          (None, 56, 56, 128)       73856     \n",
      "                                                                 \n",
      " max_pooling2d_8 (MaxPoolin  (None, 28, 28, 128)       0         \n",
      " g2D)                                                            \n",
      "                                                                 \n",
      " flatten_2 (Flatten)         (None, 100352)            0         \n",
      "                                                                 \n",
      " dense_2 (Dense)             (None, 5)                 501765    \n",
      "                                                                 \n",
      "=================================================================\n",
      "Total params: 599205 (2.29 MB)\n",
      "Trainable params: 599205 (2.29 MB)\n",
      "Non-trainable params: 0 (0.00 Byte)\n",
      "_________________________________________________________________\n"
     ]
    }
   ],
   "source": [
    "model = tf.keras.Sequential()\n",
    "\n",
    "model.add(layers.Conv2D(16, kernel_size = (3,3), padding = 'same', activation = 'relu', input_shape = (224,224,3)))\n",
    "# model.add(layers.MaxPool2D(pool_size=(2,2))) \n",
    "\n",
    "model.add(layers.Conv2D(32, kernel_size = (3,3), padding = 'same', activation = 'relu'))\n",
    "model.add(layers.MaxPool2D(pool_size=(2,2))) \n",
    "\n",
    "model.add(layers.Conv2D(64, kernel_size = (3,3), padding = 'same', activation = 'relu'))\n",
    "model.add(layers.MaxPool2D(pool_size=(2,2))) \n",
    "\n",
    "model.add(layers.Conv2D(128 ,kernel_size = (3,3) , padding = 'same' , activation='relu'))\n",
    "model.add(layers.MaxPool2D(pool_size=(2,2)))     \n",
    "          \n",
    "model.add(layers.Flatten())\n",
    "model.add(layers.Dense(5, activation = 'softmax'))\n",
    "\n",
    "model.summary()"
   ]
  },
  {
   "cell_type": "code",
   "execution_count": 57,
   "id": "76996a80",
   "metadata": {},
   "outputs": [],
   "source": [
    "model.compile(loss = 'sparse_categorical_crossentropy', optimizer = 'adam', metrics = ['accuracy'])"
   ]
  },
  {
   "cell_type": "code",
   "execution_count": 58,
   "id": "d7f997df",
   "metadata": {},
   "outputs": [
    {
     "name": "stdout",
     "output_type": "stream",
     "text": [
      "Epoch 1/10\n",
      "13/13 [==============================] - 33s 3s/step - loss: 76.1047 - accuracy: 0.1775\n",
      "Epoch 2/10\n",
      "13/13 [==============================] - 33s 3s/step - loss: 1.5933 - accuracy: 0.3025\n",
      "Epoch 3/10\n",
      "13/13 [==============================] - 28s 2s/step - loss: 1.3116 - accuracy: 0.4850\n",
      "Epoch 4/10\n",
      "13/13 [==============================] - 32s 2s/step - loss: 0.7999 - accuracy: 0.7200\n",
      "Epoch 5/10\n",
      "13/13 [==============================] - 31s 2s/step - loss: 0.3391 - accuracy: 0.9175\n",
      "Epoch 6/10\n",
      "13/13 [==============================] - 27s 2s/step - loss: 0.1655 - accuracy: 0.9550\n",
      "Epoch 7/10\n",
      "13/13 [==============================] - 27s 2s/step - loss: 0.0440 - accuracy: 0.9925\n",
      "Epoch 8/10\n",
      "13/13 [==============================] - 28s 2s/step - loss: 0.0682 - accuracy: 0.9825\n",
      "Epoch 9/10\n",
      "13/13 [==============================] - 28s 2s/step - loss: 0.0632 - accuracy: 0.9975\n",
      "Epoch 10/10\n",
      "13/13 [==============================] - 24s 2s/step - loss: 0.0288 - accuracy: 0.9925\n"
     ]
    },
    {
     "data": {
      "text/plain": [
       "<keras.src.callbacks.History at 0x2c56ac970>"
      ]
     },
     "execution_count": 58,
     "metadata": {},
     "output_type": "execute_result"
    }
   ],
   "source": [
    "model.fit(X_train, y_train, epochs=10, batch_size=32)"
   ]
  },
  {
   "cell_type": "code",
   "execution_count": 59,
   "id": "35f18cfc",
   "metadata": {},
   "outputs": [
    {
     "name": "stdout",
     "output_type": "stream",
     "text": [
      "4/4 [==============================] - 2s 485ms/step - loss: 3.4156 - accuracy: 0.3700\n",
      "[3.4156429767608643, 0.3700000047683716]\n"
     ]
    }
   ],
   "source": [
    "print(model.evaluate(X_test, y_test, verbose = 1))"
   ]
  },
  {
   "cell_type": "code",
   "execution_count": 62,
   "id": "24cc4105",
   "metadata": {},
   "outputs": [
    {
     "name": "stdout",
     "output_type": "stream",
     "text": [
      "\u001b[1m\u001b[36m5breeds\u001b[m\u001b[m/                           Test Grouped (1).zip\r\n",
      "CNN_Model_5Breeds.ipynb            \u001b[1m\u001b[36mTrain Grouped\u001b[m\u001b[m/\r\n",
      "\u001b[1m\u001b[36mCropped_Images\u001b[m\u001b[m/                    Vanilla_Model_V1.ipynb\r\n",
      "Dog_Identifier_CNN_Model_V1.ipynb  alya's.ipynb\r\n",
      "Dog_Identifier_v2_ResNet50.ipynb   \u001b[1m\u001b[36mcropped\u001b[m\u001b[m/\r\n",
      "\u001b[1m\u001b[36mGrouped DataSet\u001b[m\u001b[m/                   dog_cropped.tar\r\n",
      "Grouped DataSet.zip                \u001b[1m\u001b[36msample images\u001b[m\u001b[m/\r\n",
      "README.md\r\n"
     ]
    }
   ],
   "source": [
    "ls"
   ]
  },
  {
   "cell_type": "code",
   "execution_count": 63,
   "id": "388d734d",
   "metadata": {},
   "outputs": [
    {
     "name": "stdout",
     "output_type": "stream",
     "text": [
      "1/1 [==============================] - 0s 84ms/step\n",
      "Predicted class: n02099601\n"
     ]
    }
   ],
   "source": [
    "# Load and preprocess the image\n",
    "img_path = '5breeds/archie.jpg'\n",
    "img = image.load_img(img_path, target_size=(224, 224))\n",
    "x = image.img_to_array(img)\n",
    "x = np.expand_dims(x, axis=0)\n",
    "x = tf.keras.applications.mobilenet.preprocess_input(x)\n",
    "\n",
    "# Make predictions\n",
    "predictions = model.predict(x)\n",
    "\n",
    "# Decode the predictions\n",
    "predicted_class = dog_code[np.argmax(predictions)]\n",
    "\n",
    "print('Predicted class:', predicted_class)"
   ]
  },
  {
   "cell_type": "code",
   "execution_count": 64,
   "id": "451fefff",
   "metadata": {},
   "outputs": [
    {
     "data": {
      "text/plain": [
       "['n02088364-beagle',\n",
       " 'n02094433-Yorkshire_terrier',\n",
       " 'n02099601-golden_retriever',\n",
       " 'n02106662-German_shepherd',\n",
       " 'n02108089-boxer']"
      ]
     },
     "execution_count": 64,
     "metadata": {},
     "output_type": "execute_result"
    }
   ],
   "source": [
    "five_breeds_code"
   ]
  },
  {
   "cell_type": "code",
   "execution_count": 67,
   "id": "8fe3e294",
   "metadata": {},
   "outputs": [
    {
     "name": "stdout",
     "output_type": "stream",
     "text": [
      "archie.jpg                   \u001b[1m\u001b[36mn02106662-German_shepherd\u001b[m\u001b[m/\r\n",
      "\u001b[1m\u001b[36mn02088364-beagle\u001b[m\u001b[m/            \u001b[1m\u001b[36mn02108089-boxer\u001b[m\u001b[m/\r\n",
      "\u001b[1m\u001b[36mn02094433-Yorkshire_terrier\u001b[m\u001b[m/ sheppie.jpeg\r\n",
      "\u001b[1m\u001b[36mn02099601-golden_retriever\u001b[m\u001b[m/  yorkie.png\r\n"
     ]
    }
   ],
   "source": [
    "ls 5breeds"
   ]
  },
  {
   "cell_type": "code",
   "execution_count": 70,
   "id": "59a52e32",
   "metadata": {},
   "outputs": [
    {
     "name": "stdout",
     "output_type": "stream",
     "text": [
      "1/1 [==============================] - 0s 32ms/step\n",
      "Predicted class: n02099601\n"
     ]
    }
   ],
   "source": [
    "# Load and preprocess the image\n",
    "img_path = '5breeds/sheppie.jpeg'\n",
    "img = image.load_img(img_path, target_size=(224, 224))\n",
    "x = image.img_to_array(img)\n",
    "x = np.expand_dims(x, axis=0)\n",
    "x = tf.keras.applications.mobilenet.preprocess_input(x)\n",
    "\n",
    "# Make predictions\n",
    "predictions = model.predict(x)\n",
    "\n",
    "# Decode the predictions\n",
    "# replace with your class labels\n",
    "predicted_class = dog_code[np.argmax(predictions)]\n",
    "\n",
    "print('Predicted class:', predicted_class)"
   ]
  },
  {
   "cell_type": "code",
   "execution_count": 73,
   "id": "120a153a",
   "metadata": {},
   "outputs": [
    {
     "name": "stdout",
     "output_type": "stream",
     "text": [
      "1/1 [==============================] - 0s 23ms/step\n",
      "Predicted class: n02099601\n"
     ]
    }
   ],
   "source": [
    "# Load and preprocess the image\n",
    "img_path = '5breeds/yorkie.png'\n",
    "img = image.load_img(img_path, target_size=(224, 224))\n",
    "x = image.img_to_array(img)\n",
    "x = np.expand_dims(x, axis=0)\n",
    "x = tf.keras.applications.mobilenet.preprocess_input(x)\n",
    "\n",
    "# Make predictions\n",
    "predictions = model.predict(x)\n",
    "\n",
    "# Decode the predictions\n",
    "predicted_class = dog_code[np.argmax(predictions)]\n",
    "\n",
    "print('Predicted class:', predicted_class)"
   ]
  },
  {
   "cell_type": "code",
   "execution_count": null,
   "id": "be29cd78",
   "metadata": {},
   "outputs": [],
   "source": []
  }
 ],
 "metadata": {
  "kernelspec": {
   "display_name": "Python 3 (ipykernel)",
   "language": "python",
   "name": "python3"
  },
  "language_info": {
   "codemirror_mode": {
    "name": "ipython",
    "version": 3
   },
   "file_extension": ".py",
   "mimetype": "text/x-python",
   "name": "python",
   "nbconvert_exporter": "python",
   "pygments_lexer": "ipython3",
   "version": "3.10.6"
  },
  "toc": {
   "base_numbering": 1,
   "nav_menu": {},
   "number_sections": true,
   "sideBar": true,
   "skip_h1_title": false,
   "title_cell": "Table of Contents",
   "title_sidebar": "Contents",
   "toc_cell": false,
   "toc_position": {},
   "toc_section_display": true,
   "toc_window_display": false
  }
 },
 "nbformat": 4,
 "nbformat_minor": 5
}
