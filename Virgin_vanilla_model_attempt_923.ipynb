{
 "cells": [
  {
   "cell_type": "code",
   "execution_count": 71,
   "id": "a2dd2c56",
   "metadata": {},
   "outputs": [],
   "source": [
    "import os\n",
    "import pandas as pd\n",
    "import numpy as np\n",
    "from keras.applications.resnet_v2 import ResNet50V2\n",
    "import tensorflow as tf\n",
    "from tensorflow.keras import models, Sequential, layers, optimizers, callbacks\n",
    "from tensorflow.keras.layers import Dense, Reshape\n",
    "from keras.preprocessing import image \n",
    "from tqdm import tqdm\n",
    "from tensorflow.keras.optimizers import Adam\n",
    "from tensorflow.keras.callbacks import EarlyStopping"
   ]
  },
  {
   "cell_type": "code",
   "execution_count": 30,
   "id": "e28c5405",
   "metadata": {},
   "outputs": [],
   "source": [
    "cat0 = 'n02085936' #Maltese_dog\n",
    "cat1 = 'n02088364' #beagle\n",
    "cat2 = 'n02090721' # Irish_wolfhound\n",
    "cat3 = 'n02092339' # Weimaraner\n",
    "cat4 = 'n02093754' # Border_terrier\n",
    "cat5 = 'n02094433' # Yorkshire_terrier\n",
    "cat6 = 'n02099601' # golden_retriever\n",
    "cat7 = 'n02100583' # vizsla\n",
    "cat8 = 'n02105641' # Old_English_sheepdog\n",
    "cat9 = 'n02106550' # Rottweiler\n",
    "cat10 = 'n02106662' # German_shepherd\n",
    "cat11 = 'n02108089' # boxer\n",
    "cat12 = 'n02108422' # bull_mastiff\n",
    "cat13 = 'n02112137' # chow\n",
    "cat14 = 'n02110185' # Siberian_husky\n",
    "all_cat = [cat0, cat1, cat2, cat3, cat4, cat5, cat6, cat7, cat8, cat9, cat10, cat11, cat12, cat13, cat14]"
   ]
  },
  {
   "cell_type": "code",
   "execution_count": 35,
   "id": "8ea67927",
   "metadata": {},
   "outputs": [],
   "source": [
    "def categorise(x):\n",
    "    if x[:9] in cat0: return 0\n",
    "    elif x[:9] in cat1: return 1\n",
    "    elif x[:9] in cat2: return 2\n",
    "    elif x[:9] in cat3: return 3\n",
    "    elif x[:9] in cat4: return 4    \n",
    "    elif x[:9] in cat5: return 5    \n",
    "    elif x[:9] in cat6: return 6\n",
    "    elif x[:9] in cat7: return 7\n",
    "    elif x[:9] in cat8: return 8\n",
    "    elif x[:9] in cat9: return 9\n",
    "    elif x[:9] in cat10: return 10    \n",
    "    elif x[:9] in cat11: return 11   \n",
    "    elif x[:9] in cat12: return 12 \n",
    "    elif x[:9] in cat13: return 13\n",
    "    elif x[:9] in cat14: return 14"
   ]
  },
  {
   "cell_type": "code",
   "execution_count": 63,
   "id": "293d353d",
   "metadata": {},
   "outputs": [
    {
     "data": {
      "text/plain": [
       "1500"
      ]
     },
     "execution_count": 63,
     "metadata": {},
     "output_type": "execute_result"
    }
   ],
   "source": [
    "base_path = '/home/edloftus/code/AtinDhawan/Dog_Identifier/raw_data/Attempt_2/All_Train'\n",
    "train_dict = {}\n",
    "for i in os.listdir(base_path):\n",
    "    if i[:9] in all_cat:\n",
    "        file_path = f'{base_path}/{i}'\n",
    "        train_dict[file_path] = categorise(i)\n",
    "len(train_dict)"
   ]
  },
  {
   "cell_type": "code",
   "execution_count": 64,
   "id": "ce402bce",
   "metadata": {},
   "outputs": [
    {
     "data": {
      "text/plain": [
       "1133"
      ]
     },
     "execution_count": 64,
     "metadata": {},
     "output_type": "execute_result"
    }
   ],
   "source": [
    "base_path = '/home/edloftus/code/AtinDhawan/Dog_Identifier/raw_data/Attempt_2/All_Test'\n",
    "test_dict = {}\n",
    "for i in os.listdir(base_path):\n",
    "    if i[:9] in all_cat:\n",
    "        file_path = f'{base_path}/{i}'\n",
    "        test_dict[file_path] = categorise(i)\n",
    "len(test_dict)"
   ]
  },
  {
   "cell_type": "code",
   "execution_count": 65,
   "id": "e54b6f07",
   "metadata": {},
   "outputs": [],
   "source": [
    "X_train, y_train, X_test, y_test = list(train_dict.keys()), list(train_dict.values()), list(test_dict.keys()), list(test_dict.values())"
   ]
  },
  {
   "cell_type": "code",
   "execution_count": 49,
   "id": "1ce8cecb",
   "metadata": {},
   "outputs": [],
   "source": [
    "def load_image(folder_name):\n",
    "    image = tf.io.read_file(folder_name)\n",
    "    image = tf.image.decode_jpeg(image, channels=3)\n",
    "    return image"
   ]
  },
  {
   "cell_type": "code",
   "execution_count": 66,
   "id": "a2dc34de",
   "metadata": {},
   "outputs": [],
   "source": [
    "X_train = [load_image(i) for i in X_train]\n",
    "X_test = [load_image(i) for i in X_test]"
   ]
  },
  {
   "cell_type": "code",
   "execution_count": 67,
   "id": "9499d18f",
   "metadata": {},
   "outputs": [],
   "source": [
    "X_train, X_test = np.asarray(X_train), np.asarray(X_test)"
   ]
  },
  {
   "cell_type": "code",
   "execution_count": 73,
   "id": "11c5df2f",
   "metadata": {},
   "outputs": [],
   "source": [
    "y_train, y_test = np.asarray(y_train), np.asarray(y_test)"
   ]
  },
  {
   "cell_type": "code",
   "execution_count": 76,
   "id": "d239e9ad",
   "metadata": {},
   "outputs": [
    {
     "name": "stdout",
     "output_type": "stream",
     "text": [
      "Model: \"sequential_2\"\n",
      "_________________________________________________________________\n",
      " Layer (type)                Output Shape              Param #   \n",
      "=================================================================\n",
      " conv2d_7 (Conv2D)           (None, 222, 222, 16)      448       \n",
      "                                                                 \n",
      " max_pooling2d_3 (MaxPooling  (None, 111, 111, 16)     0         \n",
      " 2D)                                                             \n",
      "                                                                 \n",
      " conv2d_8 (Conv2D)           (None, 109, 109, 32)      4640      \n",
      "                                                                 \n",
      " max_pooling2d_4 (MaxPooling  (None, 54, 54, 32)       0         \n",
      " 2D)                                                             \n",
      "                                                                 \n",
      " conv2d_9 (Conv2D)           (None, 52, 52, 64)        18496     \n",
      "                                                                 \n",
      " max_pooling2d_5 (MaxPooling  (None, 26, 26, 64)       0         \n",
      " 2D)                                                             \n",
      "                                                                 \n",
      " conv2d_10 (Conv2D)          (None, 26, 26, 128)       73856     \n",
      "                                                                 \n",
      " max_pooling2d_6 (MaxPooling  (None, 13, 13, 128)      0         \n",
      " 2D)                                                             \n",
      "                                                                 \n",
      " flatten_2 (Flatten)         (None, 21632)             0         \n",
      "                                                                 \n",
      " dense_2 (Dense)             (None, 15)                324495    \n",
      "                                                                 \n",
      "=================================================================\n",
      "Total params: 421,935\n",
      "Trainable params: 421,935\n",
      "Non-trainable params: 0\n",
      "_________________________________________________________________\n"
     ]
    }
   ],
   "source": [
    "model = tf.keras.Sequential()\n",
    "\n",
    "model.add(layers.Conv2D(16, kernel_size = (3,3), activation = 'relu', input_shape = (224,224,3)))\n",
    "model.add(layers.MaxPool2D(pool_size=(2,2))) \n",
    "\n",
    "model.add(layers.Conv2D(32, kernel_size = (3,3), activation = 'relu'))\n",
    "model.add(layers.MaxPool2D(pool_size=(2,2))) \n",
    "\n",
    "model.add(layers.Conv2D(64, kernel_size = (3,3), activation = 'relu'))\n",
    "model.add(layers.MaxPool2D(pool_size=(2,2))) \n",
    "\n",
    "model.add(layers.Conv2D(128 ,kernel_size = (3,3) , padding = 'same' , activation='relu'))\n",
    "model.add(layers.MaxPool2D(pool_size=(2,2)))     \n",
    "          \n",
    "model.add(layers.Flatten())\n",
    "model.add(layers.Dense(15, activation = 'softmax'))\n",
    "\n",
    "model.summary()"
   ]
  },
  {
   "cell_type": "code",
   "execution_count": 77,
   "id": "a17cbc90",
   "metadata": {},
   "outputs": [],
   "source": [
    "model.compile(loss = 'sparse_categorical_crossentropy',\n",
    "              optimizer = optimizers.legacy.Adam(),\n",
    "              metrics = ['accuracy'])"
   ]
  },
  {
   "cell_type": "code",
   "execution_count": 78,
   "id": "6a68604d",
   "metadata": {},
   "outputs": [
    {
     "name": "stdout",
     "output_type": "stream",
     "text": [
      "Epoch 1/20\n",
      "47/47 [==============================] - ETA: 0s - loss: 9.7048 - accuracy: 0.1093WARNING:tensorflow:Early stopping conditioned on metric `val_loss` which is not available. Available metrics are: loss,accuracy\n",
      "47/47 [==============================] - 49s 1s/step - loss: 9.7048 - accuracy: 0.1093\n",
      "Epoch 2/20\n",
      "47/47 [==============================] - ETA: 0s - loss: 2.2812 - accuracy: 0.2760WARNING:tensorflow:Early stopping conditioned on metric `val_loss` which is not available. Available metrics are: loss,accuracy\n",
      "47/47 [==============================] - 49s 1s/step - loss: 2.2812 - accuracy: 0.2760\n",
      "Epoch 3/20\n",
      "47/47 [==============================] - ETA: 0s - loss: 1.7965 - accuracy: 0.4133WARNING:tensorflow:Early stopping conditioned on metric `val_loss` which is not available. Available metrics are: loss,accuracy\n",
      "47/47 [==============================] - 60s 1s/step - loss: 1.7965 - accuracy: 0.4133\n",
      "Epoch 4/20\n",
      "47/47 [==============================] - ETA: 0s - loss: 1.2520 - accuracy: 0.6033WARNING:tensorflow:Early stopping conditioned on metric `val_loss` which is not available. Available metrics are: loss,accuracy\n",
      "47/47 [==============================] - 48s 1s/step - loss: 1.2520 - accuracy: 0.6033\n",
      "Epoch 5/20\n",
      "47/47 [==============================] - ETA: 0s - loss: 0.7838 - accuracy: 0.7540WARNING:tensorflow:Early stopping conditioned on metric `val_loss` which is not available. Available metrics are: loss,accuracy\n",
      "47/47 [==============================] - 49s 1s/step - loss: 0.7838 - accuracy: 0.7540\n",
      "Epoch 6/20\n",
      "47/47 [==============================] - ETA: 0s - loss: 0.4694 - accuracy: 0.8673WARNING:tensorflow:Early stopping conditioned on metric `val_loss` which is not available. Available metrics are: loss,accuracy\n",
      "47/47 [==============================] - 48s 1s/step - loss: 0.4694 - accuracy: 0.8673\n",
      "Epoch 7/20\n",
      "47/47 [==============================] - ETA: 0s - loss: 0.2309 - accuracy: 0.9333WARNING:tensorflow:Early stopping conditioned on metric `val_loss` which is not available. Available metrics are: loss,accuracy\n",
      "47/47 [==============================] - 48s 1s/step - loss: 0.2309 - accuracy: 0.9333\n",
      "Epoch 8/20\n",
      "47/47 [==============================] - ETA: 0s - loss: 0.1126 - accuracy: 0.9693WARNING:tensorflow:Early stopping conditioned on metric `val_loss` which is not available. Available metrics are: loss,accuracy\n",
      "47/47 [==============================] - 50s 1s/step - loss: 0.1126 - accuracy: 0.9693\n",
      "Epoch 9/20\n",
      "47/47 [==============================] - ETA: 0s - loss: 0.0847 - accuracy: 0.9787WARNING:tensorflow:Early stopping conditioned on metric `val_loss` which is not available. Available metrics are: loss,accuracy\n",
      "47/47 [==============================] - 49s 1s/step - loss: 0.0847 - accuracy: 0.9787\n",
      "Epoch 10/20\n",
      "47/47 [==============================] - ETA: 0s - loss: 0.0498 - accuracy: 0.9867WARNING:tensorflow:Early stopping conditioned on metric `val_loss` which is not available. Available metrics are: loss,accuracy\n",
      "47/47 [==============================] - 49s 1s/step - loss: 0.0498 - accuracy: 0.9867\n",
      "Epoch 11/20\n",
      "47/47 [==============================] - ETA: 0s - loss: 0.0742 - accuracy: 0.9800WARNING:tensorflow:Early stopping conditioned on metric `val_loss` which is not available. Available metrics are: loss,accuracy\n",
      "47/47 [==============================] - 50s 1s/step - loss: 0.0742 - accuracy: 0.9800\n",
      "Epoch 12/20\n",
      "47/47 [==============================] - ETA: 0s - loss: 0.0510 - accuracy: 0.9853WARNING:tensorflow:Early stopping conditioned on metric `val_loss` which is not available. Available metrics are: loss,accuracy\n",
      "47/47 [==============================] - 51s 1s/step - loss: 0.0510 - accuracy: 0.9853\n",
      "Epoch 13/20\n",
      "47/47 [==============================] - ETA: 0s - loss: 0.0512 - accuracy: 0.9820WARNING:tensorflow:Early stopping conditioned on metric `val_loss` which is not available. Available metrics are: loss,accuracy\n",
      "47/47 [==============================] - 50s 1s/step - loss: 0.0512 - accuracy: 0.9820\n",
      "Epoch 14/20\n",
      "47/47 [==============================] - ETA: 0s - loss: 0.1490 - accuracy: 0.9593WARNING:tensorflow:Early stopping conditioned on metric `val_loss` which is not available. Available metrics are: loss,accuracy\n",
      "47/47 [==============================] - 49s 1s/step - loss: 0.1490 - accuracy: 0.9593\n",
      "Epoch 15/20\n",
      "47/47 [==============================] - ETA: 0s - loss: 0.0620 - accuracy: 0.9860WARNING:tensorflow:Early stopping conditioned on metric `val_loss` which is not available. Available metrics are: loss,accuracy\n",
      "47/47 [==============================] - 57s 1s/step - loss: 0.0620 - accuracy: 0.9860\n",
      "Epoch 16/20\n",
      "47/47 [==============================] - ETA: 0s - loss: 0.0201 - accuracy: 0.9947WARNING:tensorflow:Early stopping conditioned on metric `val_loss` which is not available. Available metrics are: loss,accuracy\n",
      "47/47 [==============================] - 48s 1s/step - loss: 0.0201 - accuracy: 0.9947\n",
      "Epoch 17/20\n",
      "47/47 [==============================] - ETA: 0s - loss: 0.0092 - accuracy: 0.9987WARNING:tensorflow:Early stopping conditioned on metric `val_loss` which is not available. Available metrics are: loss,accuracy\n",
      "47/47 [==============================] - 48s 1s/step - loss: 0.0092 - accuracy: 0.9987\n",
      "Epoch 18/20\n",
      "47/47 [==============================] - ETA: 0s - loss: 8.9877e-04 - accuracy: 1.0000WARNING:tensorflow:Early stopping conditioned on metric `val_loss` which is not available. Available metrics are: loss,accuracy\n",
      "47/47 [==============================] - 49s 1s/step - loss: 8.9877e-04 - accuracy: 1.0000\n",
      "Epoch 19/20\n",
      "47/47 [==============================] - ETA: 0s - loss: 4.9295e-04 - accuracy: 1.0000WARNING:tensorflow:Early stopping conditioned on metric `val_loss` which is not available. Available metrics are: loss,accuracy\n",
      "47/47 [==============================] - 53s 1s/step - loss: 4.9295e-04 - accuracy: 1.0000\n",
      "Epoch 20/20\n",
      "47/47 [==============================] - ETA: 0s - loss: 3.6776e-04 - accuracy: 1.0000WARNING:tensorflow:Early stopping conditioned on metric `val_loss` which is not available. Available metrics are: loss,accuracy\n",
      "47/47 [==============================] - 49s 1s/step - loss: 3.6776e-04 - accuracy: 1.0000\n"
     ]
    },
    {
     "data": {
      "text/plain": [
       "<keras.callbacks.History at 0x7f37316fcb50>"
      ]
     },
     "execution_count": 78,
     "metadata": {},
     "output_type": "execute_result"
    }
   ],
   "source": [
    "es = EarlyStopping(patience = 5)\n",
    "\n",
    "model.fit(X_train, y_train, batch_size=32, epochs = 20, callbacks=[es], verbose = 1)"
   ]
  },
  {
   "cell_type": "code",
   "execution_count": 79,
   "id": "126184f0",
   "metadata": {},
   "outputs": [
    {
     "name": "stdout",
     "output_type": "stream",
     "text": [
      "36/36 [==============================] - 8s 224ms/step - loss: 7.6981 - accuracy: 0.2727\n"
     ]
    },
    {
     "data": {
      "text/plain": [
       "[7.69807243347168, 0.27272728085517883]"
      ]
     },
     "execution_count": 79,
     "metadata": {},
     "output_type": "execute_result"
    }
   ],
   "source": [
    "model.evaluate(X_test, y_test)"
   ]
  }
 ],
 "metadata": {
  "kernelspec": {
   "display_name": "Python 3 (ipykernel)",
   "language": "python",
   "name": "python3"
  },
  "language_info": {
   "codemirror_mode": {
    "name": "ipython",
    "version": 3
   },
   "file_extension": ".py",
   "mimetype": "text/x-python",
   "name": "python",
   "nbconvert_exporter": "python",
   "pygments_lexer": "ipython3",
   "version": "3.10.6"
  },
  "toc": {
   "base_numbering": 1,
   "nav_menu": {},
   "number_sections": true,
   "sideBar": true,
   "skip_h1_title": false,
   "title_cell": "Table of Contents",
   "title_sidebar": "Contents",
   "toc_cell": false,
   "toc_position": {},
   "toc_section_display": true,
   "toc_window_display": false
  }
 },
 "nbformat": 4,
 "nbformat_minor": 5
}
